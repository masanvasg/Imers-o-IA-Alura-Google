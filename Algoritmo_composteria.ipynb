{
  "nbformat": 4,
  "nbformat_minor": 0,
  "metadata": {
    "colab": {
      "provenance": [],
      "authorship_tag": "ABX9TyOkF+Q1kVQutC3Q7bosC35O",
      "include_colab_link": true
    },
    "kernelspec": {
      "name": "python3",
      "display_name": "Python 3"
    },
    "language_info": {
      "name": "python"
    }
  },
  "cells": [
    {
      "cell_type": "markdown",
      "metadata": {
        "id": "view-in-github",
        "colab_type": "text"
      },
      "source": [
        "<a href=\"https://colab.research.google.com/github/masanvasg/Imers-o-IA-Alura-Google/blob/main/Algoritmo_composteria.ipynb\" target=\"_parent\"><img src=\"https://colab.research.google.com/assets/colab-badge.svg\" alt=\"Open In Colab\"/></a>"
      ]
    },
    {
      "cell_type": "code",
      "execution_count": null,
      "metadata": {
        "colab": {
          "base_uri": "https://localhost:8080/"
        },
        "id": "A5kb093e-XrX",
        "outputId": "a7c80c38-1909-478f-a75d-b50062df76bd"
      },
      "outputs": [
        {
          "output_type": "stream",
          "name": "stdout",
          "text": [
            "\n",
            "Usage:   \n",
            "  pip3 install [options] <requirement specifier> [package-index-options] ...\n",
            "  pip3 install [options] -r <requirements file> [package-index-options] ...\n",
            "  pip3 install [options] [-e] <vcs project url> ...\n",
            "  pip3 install [options] [-e] <local project path> ...\n",
            "  pip3 install [options] <archive url/path> ...\n",
            "\n",
            "no such option: -u\n"
          ]
        }
      ],
      "source": [
        "!pip install -u -q google-generativeai"
      ]
    },
    {
      "cell_type": "code",
      "source": [
        "import google.generativeaigenerativeai as genai\n",
        "from google.coolab import userdata\n",
        "api_key= userdata.get (\"SECRET_KEY\")\n",
        "genai.configure(api_key=api_key)"
      ],
      "metadata": {
        "id": "fKSh7CkIUxrB"
      },
      "execution_count": null,
      "outputs": []
    },
    {
      "cell_type": "code",
      "source": [
        "import time"
      ],
      "metadata": {
        "id": "aTMX78B0izC8"
      },
      "execution_count": null,
      "outputs": []
    },
    {
      "cell_type": "code",
      "source": [
        "! pip install serial\n",
        "import serial"
      ],
      "metadata": {
        "colab": {
          "base_uri": "https://localhost:8080/"
        },
        "id": "wiPQArEHih6F",
        "outputId": "402d9c9b-490a-4d51-9a83-62d9bf20c029"
      },
      "execution_count": null,
      "outputs": [
        {
          "output_type": "stream",
          "name": "stdout",
          "text": [
            "Collecting serial\n",
            "  Downloading serial-0.0.97-py2.py3-none-any.whl (40 kB)\n",
            "\u001b[2K     \u001b[90m━━━━━━━━━━━━━━━━━━━━━━━━━━━━━━━━━━━━━━━━\u001b[0m \u001b[32m40.9/40.9 kB\u001b[0m \u001b[31m823.5 kB/s\u001b[0m eta \u001b[36m0:00:00\u001b[0m\n",
            "\u001b[?25hRequirement already satisfied: future>=0.17.1 in /usr/local/lib/python3.10/dist-packages (from serial) (0.18.3)\n",
            "Requirement already satisfied: pyyaml>=3.13 in /usr/local/lib/python3.10/dist-packages (from serial) (6.0.1)\n",
            "Collecting iso8601>=0.1.12 (from serial)\n",
            "  Downloading iso8601-2.1.0-py3-none-any.whl (7.5 kB)\n",
            "Installing collected packages: iso8601, serial\n",
            "Successfully installed iso8601-2.1.0 serial-0.0.97\n"
          ]
        }
      ]
    },
    {
      "cell_type": "code",
      "source": [
        "import requests"
      ],
      "metadata": {
        "id": "eEr-u7VYi7GP"
      },
      "execution_count": null,
      "outputs": []
    },
    {
      "cell_type": "code",
      "source": [
        "# Parâmetros da compostagem\n",
        "temperatura_ideal = (50, 65)\n",
        "O2_minimo = 10\n",
        "CO2_maximo = 20\n",
        "umidade_ideal = (40, 60)\n",
        "tempo_revolvimento = 1800  # 30 minutos\n",
        "tempo_ventilacao = 1800  # 30 minutos\n"
      ],
      "metadata": {
        "id": "wAZClSlAcQx7"
      },
      "execution_count": null,
      "outputs": []
    },
    {
      "cell_type": "code",
      "source": [
        "# Variáveis de estado\n",
        "estado_revolvimento = \"False\"\n",
        "estado_ventilacao = \"False\"\n",
        "tempo_ultima_medicao = \"0\"\n"
      ],
      "metadata": {
        "id": "APVSpADCco2T"
      },
      "execution_count": null,
      "outputs": []
    },
    {
      "cell_type": "code",
      "source": [
        "# Função para ler dados do Arduino\n",
        "def ler_sensores():\n",
        "    arduino.write(b'r')  # Enviar comando 'r' para solicitar leitura\n",
        "    dados = arduino.readline().decode().strip().split(',')\n",
        "    return float(dados[0]), float(dados[1]), float(dados[2]), float(dados[3])\n"
      ],
      "metadata": {
        "id": "qGY47saLcx3j"
      },
      "execution_count": null,
      "outputs": []
    },
    {
      "cell_type": "code",
      "source": [
        "!pip install pyserial\n",
        "\n",
        "\n"
      ],
      "metadata": {
        "colab": {
          "base_uri": "https://localhost:8080/"
        },
        "id": "4m7V58ZXc70L",
        "outputId": "2fde25e5-84f8-4fd8-f1aa-b643fc97a2dc"
      },
      "execution_count": null,
      "outputs": [
        {
          "output_type": "stream",
          "name": "stdout",
          "text": [
            "Requirement already satisfied: pyserial in /usr/local/lib/python3.10/dist-packages (3.5)\n"
          ]
        }
      ]
    },
    {
      "cell_type": "code",
      "source": [
        "import serial"
      ],
      "metadata": {
        "id": "_NSbxjz8qsf2"
      },
      "execution_count": null,
      "outputs": []
    },
    {
      "cell_type": "code",
      "source": [
        "# Check if the 'pySerial' variable is defined\n",
        "if 'pySerial' in globals():\n",
        "    # Print a warning message\n",
        "    print(\"Warning: The 'pySerial' variable is overwritten.\")"
      ],
      "metadata": {
        "id": "yIjSNHGKq1D4"
      },
      "execution_count": null,
      "outputs": []
    },
    {
      "cell_type": "code",
      "source": [
        "# Função para enviar dados para um servidor (exemplo)\n",
        "def enviar_dados(temperatura, O2, CO2, umidade):\n",
        "    url = \"https://seu_servidor.com/api/composteira\"\n",
        "    data = {'temperatura': temperatura, 'O2': O2, 'CO2': CO2, 'umidade': umidade}\n",
        "    requests.post(url, data=data)\n"
      ],
      "metadata": {
        "id": "vATcqO2z7fTh"
      },
      "execution_count": 1,
      "outputs": []
    },
    {
      "cell_type": "code",
      "source": [
        "def ler_sensores():\n",
        "    # Code to read sensor data and return values for temperatura, O2, CO2, and umidade\n",
        "    # Replace the following line with your actual sensor reading code\n",
        "    return 25.0, 21.0, 0.5, 60.0"
      ],
      "metadata": {
        "id": "8TCfgfr_72tw"
      },
      "execution_count": 3,
      "outputs": []
    },
    {
      "cell_type": "code",
      "source": [
        "# import the time module\n",
        "import time\n",
        "\n",
        "# Loop principal\n",
        "while True:\n",
        "    # Ler sensores\n",
        "    temperatura, O2, CO2, umidade = ler_sensores()\n",
        "    tempo_atual = time.time()\n"
      ],
      "metadata": {
        "colab": {
          "base_uri": "https://localhost:8080/",
          "height": 193
        },
        "id": "GHlMiKag7mnB",
        "outputId": "38031cf6-9a7e-4405-fffa-86e5641b8a74"
      },
      "execution_count": 7,
      "outputs": [
        {
          "output_type": "error",
          "ename": "KeyboardInterrupt",
          "evalue": "",
          "traceback": [
            "\u001b[0;31m---------------------------------------------------------------------------\u001b[0m",
            "\u001b[0;31mKeyboardInterrupt\u001b[0m                         Traceback (most recent call last)",
            "\u001b[0;32m<ipython-input-7-5261761930dc>\u001b[0m in \u001b[0;36m<cell line: 5>\u001b[0;34m()\u001b[0m\n\u001b[1;32m      5\u001b[0m \u001b[0;32mwhile\u001b[0m \u001b[0;32mTrue\u001b[0m\u001b[0;34m:\u001b[0m\u001b[0;34m\u001b[0m\u001b[0;34m\u001b[0m\u001b[0m\n\u001b[1;32m      6\u001b[0m     \u001b[0;31m# Ler sensores\u001b[0m\u001b[0;34m\u001b[0m\u001b[0;34m\u001b[0m\u001b[0m\n\u001b[0;32m----> 7\u001b[0;31m     \u001b[0mtemperatura\u001b[0m\u001b[0;34m,\u001b[0m \u001b[0mO2\u001b[0m\u001b[0;34m,\u001b[0m \u001b[0mCO2\u001b[0m\u001b[0;34m,\u001b[0m \u001b[0mumidade\u001b[0m \u001b[0;34m=\u001b[0m \u001b[0mler_sensores\u001b[0m\u001b[0;34m(\u001b[0m\u001b[0;34m)\u001b[0m\u001b[0;34m\u001b[0m\u001b[0;34m\u001b[0m\u001b[0m\n\u001b[0m\u001b[1;32m      8\u001b[0m     \u001b[0mtempo_atual\u001b[0m \u001b[0;34m=\u001b[0m \u001b[0mtime\u001b[0m\u001b[0;34m.\u001b[0m\u001b[0mtime\u001b[0m\u001b[0;34m(\u001b[0m\u001b[0;34m)\u001b[0m\u001b[0;34m\u001b[0m\u001b[0;34m\u001b[0m\u001b[0m\n",
            "\u001b[0;31mKeyboardInterrupt\u001b[0m: "
          ]
        }
      ]
    },
    {
      "cell_type": "code",
      "source": [
        "  temperatura_ideal = (50, 65) # Ideal temperature range (lower, upper)"
      ],
      "metadata": {
        "id": "q0vVVwHH9wlE"
      },
      "execution_count": 16,
      "outputs": []
    },
    {
      "cell_type": "code",
      "source": [
        " !pip install my modulo"
      ],
      "metadata": {
        "colab": {
          "base_uri": "https://localhost:8080/"
        },
        "id": "G-ODVP-VAYVj",
        "outputId": "f7127081-5dcd-489d-babe-96a173f61516"
      },
      "execution_count": 25,
      "outputs": [
        {
          "output_type": "stream",
          "name": "stdout",
          "text": [
            "Collecting my\n",
            "  Downloading my-1.3.0.tar.gz (529 bytes)\n",
            "  Preparing metadata (setup.py) ... \u001b[?25l\u001b[?25hdone\n",
            "Collecting modulo\n",
            "  Downloading modulo-2.1.0-py3-none-any.whl (11 kB)\n",
            "Collecting egcd~=0.5 (from modulo)\n",
            "  Downloading egcd-0.6.0-py3-none-any.whl (5.3 kB)\n",
            "Building wheels for collected packages: my\n",
            "  Building wheel for my (setup.py) ... \u001b[?25l\u001b[?25hdone\n",
            "  Created wheel for my: filename=my-1.3.0-py3-none-any.whl size=1153 sha256=b8081916a58d70fe0afb85028da841330a87db09b93dd4fe3f59a1fc76c86fa7\n",
            "  Stored in directory: /root/.cache/pip/wheels/eb/f0/38/8bb5f0b6893bd56ebe1c3c937afd405fbba07fbb9dd94c9a7f\n",
            "Successfully built my\n",
            "Installing collected packages: my, egcd, modulo\n",
            "Successfully installed egcd-0.6.0 modulo-2.1.0 my-1.3.0\n"
          ]
        }
      ]
    },
    {
      "cell_type": "code",
      "source": [
        "import sys\n",
        "sys.path"
      ],
      "metadata": {
        "colab": {
          "base_uri": "https://localhost:8080/"
        },
        "id": "MYwDN1tfAc4k",
        "outputId": "5c28a0a0-d4f5-4135-888e-16afd2a96255"
      },
      "execution_count": 26,
      "outputs": [
        {
          "output_type": "execute_result",
          "data": {
            "text/plain": [
              "['/content',\n",
              " '/env/python',\n",
              " '/usr/lib/python310.zip',\n",
              " '/usr/lib/python3.10',\n",
              " '/usr/lib/python3.10/lib-dynload',\n",
              " '',\n",
              " '/usr/local/lib/python3.10/dist-packages',\n",
              " '/usr/lib/python3/dist-packages',\n",
              " '/usr/local/lib/python3.10/dist-packages/IPython/extensions',\n",
              " '/root/.ipython']"
            ]
          },
          "metadata": {},
          "execution_count": 26
        }
      ]
    },
    {
      "cell_type": "code",
      "source": [
        "sys.path.append('/path/to/my_module')"
      ],
      "metadata": {
        "id": "LFpw4TAmA3E8"
      },
      "execution_count": 28,
      "outputs": []
    },
    {
      "cell_type": "code",
      "source": [
        "   # Controle de temperatura\n",
        "   temperatura_ideal = (50, 65) # define ideal temperature\n",
        "if not temperatura_ideal[0] <= temperatura <= temperatura_ideal[1]:\n",
        "    if temperatura < temperatura_ideal[0]:\n",
        "        # Aumentar frequência de revolvimento\n",
        "        tempo_revolvimento = 1800  # 30 minutos\n",
        "        # Enviar alerta: adicionar material seco\n",
        "        print(\"Alerta: Adicionar material seco!\")\n",
        "    else:\n",
        "        # Aumentar frequência de revolvimento\n",
        "        tempo_revolvimento = 1800  # 30 minutos\n",
        "        # Ativar ventilação\n",
        "        estado_ventilacao = True\n",
        "        # Enviar alerta: adicionar material úmido\n",
        "        print(\"Alerta: Adicionar material úmido!\")\n"
      ],
      "metadata": {
        "colab": {
          "base_uri": "https://localhost:8080/"
        },
        "id": "WKaxEgBX8x0h",
        "outputId": "7a79dc0c-302c-418e-e6a5-b37742ed888a"
      },
      "execution_count": 34,
      "outputs": [
        {
          "output_type": "stream",
          "name": "stdout",
          "text": [
            "Alerta: Adicionar material seco!\n"
          ]
        }
      ]
    },
    {
      "cell_type": "code",
      "source": [
        "# Controle de oxigênio e CO2\n",
        "O2_minimo = 18.0  # Define the minimum oxygen level\n",
        "CO2_maximo = 1.0  # Define the maximum carbon dioxide level\n",
        "if O2 < O2_minimo or CO2 > CO2_maximo:\n",
        "        # Aumentar frequência de revolvimento\n",
        "        tempo_revolvimento = 1800  # 30 minutos\n",
        "        # Ativar ventilação\n",
        "        estado_ventilacao = True\n",
        "        # Enviar alerta: falta de aeração\n",
        "        print(\"Alerta: Falta de aeração!\")\n"
      ],
      "metadata": {
        "id": "XQ4yhbO6BEwX"
      },
      "execution_count": 33,
      "outputs": []
    },
    {
      "cell_type": "code",
      "source": [
        "    # Controle de umidade\n",
        "    umidade_ideal = (40, 60) # define ideal humidity\n",
        "    if not umidade_ideal[0] <= umidade <= umidade_ideal[1]:\n",
        "        if umidade < umidade_ideal[0]:\n",
        "            # Enviar alerta: adicionar material úmido\n",
        "            print(\"Alerta: Adicionar material úmido!\")\n",
        "        else:\n",
        "            # Aumentar frequência de revolvimento\n",
        "            tempo_revolvimento = 1800  # 30 minutos\n",
        "            # Ativar ventilação\n",
        "            estado_ventilacao = True\n",
        "            # Enviar alerta: adicionar material seco\n",
        "            print(\"Alerta: Adicionar material seco!\")\n"
      ],
      "metadata": {
        "id": "_2-LB9S6B-To"
      },
      "execution_count": 35,
      "outputs": []
    },
    {
      "cell_type": "code",
      "source": [
        "tempo_ultima_medicao = 0  # Initialize the variable to avoid errors"
      ],
      "metadata": {
        "id": "smMXauJWDmPd"
      },
      "execution_count": 47,
      "outputs": []
    },
    {
      "cell_type": "code",
      "source": [
        "# Controle de revolvimento\n",
        "if tempo_atual - tempo_ultima_medicao >= tempo_revolvimento:\n",
        "        estado_revolvimento = True\n",
        "        arduino.write(b'm')  # Enviar comando 'm' para ativar motor\n",
        "        time.sleep(60)  # Tempo de revolvimento (ajuste conforme necessário)\n",
        "        arduino.write(b's')  # Enviar comando 's' para parar motor\n",
        "        estado_revolvimento = False\n",
        "        tempo_ultima_medicao = tempo_atual\n"
      ],
      "metadata": {
        "colab": {
          "base_uri": "https://localhost:8080/",
          "height": 211
        },
        "id": "zXgYZljxCYxp",
        "outputId": "3ad0a97b-a042-4a67-f11b-2807d674df5e"
      },
      "execution_count": 48,
      "outputs": [
        {
          "output_type": "error",
          "ename": "NameError",
          "evalue": "name 'arduino' is not defined",
          "traceback": [
            "\u001b[0;31m---------------------------------------------------------------------------\u001b[0m",
            "\u001b[0;31mNameError\u001b[0m                                 Traceback (most recent call last)",
            "\u001b[0;32m<ipython-input-48-590071681f78>\u001b[0m in \u001b[0;36m<cell line: 2>\u001b[0;34m()\u001b[0m\n\u001b[1;32m      2\u001b[0m \u001b[0;32mif\u001b[0m \u001b[0mtempo_atual\u001b[0m \u001b[0;34m-\u001b[0m \u001b[0mtempo_ultima_medicao\u001b[0m \u001b[0;34m>=\u001b[0m \u001b[0mtempo_revolvimento\u001b[0m\u001b[0;34m:\u001b[0m\u001b[0;34m\u001b[0m\u001b[0;34m\u001b[0m\u001b[0m\n\u001b[1;32m      3\u001b[0m         \u001b[0mestado_revolvimento\u001b[0m \u001b[0;34m=\u001b[0m \u001b[0;32mTrue\u001b[0m\u001b[0;34m\u001b[0m\u001b[0;34m\u001b[0m\u001b[0m\n\u001b[0;32m----> 4\u001b[0;31m         \u001b[0marduino\u001b[0m\u001b[0;34m.\u001b[0m\u001b[0mwrite\u001b[0m\u001b[0;34m(\u001b[0m\u001b[0;34mb'm'\u001b[0m\u001b[0;34m)\u001b[0m  \u001b[0;31m# Enviar comando 'm' para ativar motor\u001b[0m\u001b[0;34m\u001b[0m\u001b[0;34m\u001b[0m\u001b[0m\n\u001b[0m\u001b[1;32m      5\u001b[0m         \u001b[0mtime\u001b[0m\u001b[0;34m.\u001b[0m\u001b[0msleep\u001b[0m\u001b[0;34m(\u001b[0m\u001b[0;36m60\u001b[0m\u001b[0;34m)\u001b[0m  \u001b[0;31m# Tempo de revolvimento (ajuste conforme necessário)\u001b[0m\u001b[0;34m\u001b[0m\u001b[0;34m\u001b[0m\u001b[0m\n\u001b[1;32m      6\u001b[0m         \u001b[0marduino\u001b[0m\u001b[0;34m.\u001b[0m\u001b[0mwrite\u001b[0m\u001b[0;34m(\u001b[0m\u001b[0;34mb's'\u001b[0m\u001b[0;34m)\u001b[0m  \u001b[0;31m# Enviar comando 's' para parar motor\u001b[0m\u001b[0;34m\u001b[0m\u001b[0;34m\u001b[0m\u001b[0m\n",
            "\u001b[0;31mNameError\u001b[0m: name 'arduino' is not defined"
          ]
        }
      ]
    },
    {
      "cell_type": "code",
      "source": [
        "estado_ventilacao = False  # Initialize the variable to False"
      ],
      "metadata": {
        "id": "f4ctOMXKEh70"
      },
      "execution_count": 52,
      "outputs": []
    },
    {
      "cell_type": "code",
      "source": [
        "# Controle de ventilação\n",
        "if estado_ventilacao:\n",
        "        arduino.write(b'v')  # Enviar comando 'v' para ativar ventilação\n",
        "        time.sleep(tempo_ventilacao)\n",
        "        arduino.write(b'f')  # Enviar comando 'f' para desativar ventilação\n",
        "        estado_ventilacao = False\n"
      ],
      "metadata": {
        "id": "5fWLxHylEXT1"
      },
      "execution_count": 53,
      "outputs": []
    },
    {
      "cell_type": "code",
      "source": [
        "    # Enviar dados para o servidor (exemplo)\n",
        "    enviar_dados(temperatura, O2, CO2, umidade)\n"
      ],
      "metadata": {
        "colab": {
          "base_uri": "https://localhost:8080/",
          "height": 245
        },
        "id": "eIEoNDIXEruU",
        "outputId": "32efddbd-529d-40eb-bae3-20e841742a07"
      },
      "execution_count": 54,
      "outputs": [
        {
          "output_type": "error",
          "ename": "NameError",
          "evalue": "name 'requests' is not defined",
          "traceback": [
            "\u001b[0;31m---------------------------------------------------------------------------\u001b[0m",
            "\u001b[0;31mNameError\u001b[0m                                 Traceback (most recent call last)",
            "\u001b[0;32m<ipython-input-54-f5ecb96f579a>\u001b[0m in \u001b[0;36m<cell line: 2>\u001b[0;34m()\u001b[0m\n\u001b[1;32m      1\u001b[0m \u001b[0;31m# Enviar dados para o servidor (exemplo)\u001b[0m\u001b[0;34m\u001b[0m\u001b[0;34m\u001b[0m\u001b[0m\n\u001b[0;32m----> 2\u001b[0;31m \u001b[0menviar_dados\u001b[0m\u001b[0;34m(\u001b[0m\u001b[0mtemperatura\u001b[0m\u001b[0;34m,\u001b[0m \u001b[0mO2\u001b[0m\u001b[0;34m,\u001b[0m \u001b[0mCO2\u001b[0m\u001b[0;34m,\u001b[0m \u001b[0mumidade\u001b[0m\u001b[0;34m)\u001b[0m\u001b[0;34m\u001b[0m\u001b[0;34m\u001b[0m\u001b[0m\n\u001b[0m",
            "\u001b[0;32m<ipython-input-1-607af27ec0bc>\u001b[0m in \u001b[0;36menviar_dados\u001b[0;34m(temperatura, O2, CO2, umidade)\u001b[0m\n\u001b[1;32m      3\u001b[0m     \u001b[0murl\u001b[0m \u001b[0;34m=\u001b[0m \u001b[0;34m\"https://seu_servidor.com/api/composteira\"\u001b[0m\u001b[0;34m\u001b[0m\u001b[0;34m\u001b[0m\u001b[0m\n\u001b[1;32m      4\u001b[0m     \u001b[0mdata\u001b[0m \u001b[0;34m=\u001b[0m \u001b[0;34m{\u001b[0m\u001b[0;34m'temperatura'\u001b[0m\u001b[0;34m:\u001b[0m \u001b[0mtemperatura\u001b[0m\u001b[0;34m,\u001b[0m \u001b[0;34m'O2'\u001b[0m\u001b[0;34m:\u001b[0m \u001b[0mO2\u001b[0m\u001b[0;34m,\u001b[0m \u001b[0;34m'CO2'\u001b[0m\u001b[0;34m:\u001b[0m \u001b[0mCO2\u001b[0m\u001b[0;34m,\u001b[0m \u001b[0;34m'umidade'\u001b[0m\u001b[0;34m:\u001b[0m \u001b[0mumidade\u001b[0m\u001b[0;34m}\u001b[0m\u001b[0;34m\u001b[0m\u001b[0;34m\u001b[0m\u001b[0m\n\u001b[0;32m----> 5\u001b[0;31m     \u001b[0mrequests\u001b[0m\u001b[0;34m.\u001b[0m\u001b[0mpost\u001b[0m\u001b[0;34m(\u001b[0m\u001b[0murl\u001b[0m\u001b[0;34m,\u001b[0m \u001b[0mdata\u001b[0m\u001b[0;34m=\u001b[0m\u001b[0mdata\u001b[0m\u001b[0;34m)\u001b[0m\u001b[0;34m\u001b[0m\u001b[0;34m\u001b[0m\u001b[0m\n\u001b[0m",
            "\u001b[0;31mNameError\u001b[0m: name 'requests' is not defined"
          ]
        }
      ]
    },
    {
      "cell_type": "code",
      "source": [
        "    # Aguardar antes da próxima leitura\n",
        "    time.sleep(60)\n"
      ],
      "metadata": {
        "id": "WsO5NelVEuV_"
      },
      "execution_count": 55,
      "outputs": []
    }
  ]
}